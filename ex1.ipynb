{
 "cells": [
  {
   "cell_type": "markdown",
   "id": "eb07f953",
   "metadata": {},
   "source": [
    "![alt text](image.png)"
   ]
  },
  {
   "cell_type": "code",
   "execution_count": null,
   "id": "a0e8ea16",
   "metadata": {},
   "outputs": [
    {
     "name": "stdout",
     "output_type": "stream",
     "text": [
      "a soma de 1.00 / 5.00 é = 0.20. Soma acumulada = 0.20\n",
      "a soma de 2.00 / 4.00 é = 0.50. Soma acumulada = 0.70\n",
      "a soma de 3.00 / 3.00 é = 1.00. Soma acumulada = 1.70\n",
      "a soma de 4.00 / 2.00 é = 2.00. Soma acumulada = 3.70\n",
      "a soma de 5.00 / 1.00 é = 5.00. Soma acumulada = 8.70\n"
     ]
    }
   ],
   "source": [
    "n = int(input(\"Digite o valor de N: \"))\n",
    "\n",
    "s = 0\n",
    "\n",
    "for i in range(1, n+1):\n",
    "    s += i / (n+1 - i)\n",
    "    print(\"A soma de {:.2f} / {:.2f} é = {:.2f}. Soma acumulada = {:.2f}\".format(i,(n+1 - i), i / (n+1 - i), s))"
   ]
  },
  {
   "cell_type": "markdown",
   "id": "4012c0cd",
   "metadata": {},
   "source": [
    "![alt text](image-1.png)"
   ]
  }
 ],
 "metadata": {
  "kernelspec": {
   "display_name": "Python 3",
   "language": "python",
   "name": "python3"
  },
  "language_info": {
   "codemirror_mode": {
    "name": "ipython",
    "version": 3
   },
   "file_extension": ".py",
   "mimetype": "text/x-python",
   "name": "python",
   "nbconvert_exporter": "python",
   "pygments_lexer": "ipython3",
   "version": "3.12.0"
  }
 },
 "nbformat": 4,
 "nbformat_minor": 5
}
