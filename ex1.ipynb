{
 "cells": [
  {
   "cell_type": "markdown",
   "id": "eb07f953",
   "metadata": {},
   "source": [
    "![alt text](image.png)"
   ]
  },
  {
   "cell_type": "code",
   "execution_count": 4,
   "id": "a0e8ea16",
   "metadata": {},
   "outputs": [
    {
     "name": "stdout",
     "output_type": "stream",
     "text": [
      "A soma de 1.00 / 6.00 é = 0.17. Soma acumulada = 0.17\n",
      "A soma de 2.00 / 5.00 é = 0.40. Soma acumulada = 0.57\n",
      "A soma de 3.00 / 4.00 é = 0.75. Soma acumulada = 1.32\n",
      "A soma de 4.00 / 3.00 é = 1.33. Soma acumulada = 2.65\n",
      "A soma de 5.00 / 2.00 é = 2.50. Soma acumulada = 5.15\n",
      "A soma de 6.00 / 1.00 é = 6.00. Soma acumulada = 11.15\n"
     ]
    }
   ],
   "source": [
    "n = int(input(\"Digite o valor de N: \"))\n",
    "\n",
    "if n <= 0:\n",
    "    print(\"Por favor, digite um valor inteiro positivo para N.\")\n",
    "else:\n",
    "    s = 0\n",
    "    for i in range(1, n+1):\n",
    "        denominador = n + 1 - i\n",
    "        if denominador == 0:\n",
    "            print(f\"Divisão por zero para i = {i}. Termo ignorado.\")\n",
    "            continue\n",
    "        termo = i / denominador\n",
    "        s += termo\n",
    "        print(f\"A soma de {i:.2f} / {denominador:.2f} é = {termo:.2f}. Soma acumulada = {s:.2f}\")"
   ]
  }
 ],
 "metadata": {
  "kernelspec": {
   "display_name": "Python 3",
   "language": "python",
   "name": "python3"
  },
  "language_info": {
   "codemirror_mode": {
    "name": "ipython",
    "version": 3
   },
   "file_extension": ".py",
   "mimetype": "text/x-python",
   "name": "python",
   "nbconvert_exporter": "python",
   "pygments_lexer": "ipython3",
   "version": "3.12.0"
  }
 },
 "nbformat": 4,
 "nbformat_minor": 5
}
