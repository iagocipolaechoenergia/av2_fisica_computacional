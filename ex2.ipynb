{
 "cells": [
  {
   "cell_type": "markdown",
   "metadata": {},
   "source": [
    "![alt text](image-1.png)"
   ]
  },
  {
   "cell_type": "markdown",
   "metadata": {},
   "source": [
    "a)"
   ]
  },
  {
   "cell_type": "markdown",
   "metadata": {},
   "source": [
    "![alt text]({925353A3-B79D-45E7-8DD1-57D965B27204}.png)"
   ]
  },
  {
   "cell_type": "code",
   "execution_count": 1,
   "metadata": {},
   "outputs": [
    {
     "name": "stdout",
     "output_type": "stream",
     "text": [
      "8.161641236267839\n"
     ]
    }
   ],
   "source": [
    "\"\"\" \n",
    "Posição x (x0 = 0 até xf) e y (y0 = h até yf = 0) durante o tempo até h = 0 m\n",
    "\"\"\"\n",
    "import math\n",
    "# definindo variáveis\n",
    "G = 9.8 # m/s**2\n",
    "angulo = 30 # graus\n",
    "v0 = 20 # m/s\n",
    "h = 45 # m \n",
    "\n",
    "# decomponto a velocidade no eixo x e y\n",
    "v0x = v0 * math.cos(v0)\n",
    "v0y = v0 * math.sin(v0)\n",
    "\n",
    "# v = x / t. logo x = v * t\n",
    "\n",
    "# para o eixo x\n",
    "# t = 1 s \n",
    "vxt1 = v0x * 1\n",
    "\n",
    "\n"
   ]
  },
  {
   "cell_type": "code",
   "execution_count": 8,
   "metadata": {},
   "outputs": [],
   "source": [
    "import math\n",
    "# definindo variáveis\n",
    "G = 9.8 # m/s**2\n",
    "angulo = 30 # graus\n",
    "v0 = 20 # m/s\n",
    "h = 45 # m \n",
    "\n",
    "# decomponto a velocidade no eixo x e y\n",
    "v0x = v0 * math.cos(v0)\n",
    "v0y = v0 * math.sin(v0)\n",
    "\n",
    "# acelerações\n",
    "ax = 0\n",
    "ay = -G\n",
    "\n",
    "\n",
    "\n",
    "# posição x começando em 0\n",
    "x = 0\n",
    "# posição y começa sendo a altura inicial h\n",
    "y = h\n",
    "\n",
    "# vai se manter assim\n",
    "vx = v0x\n",
    "\n",
    "# vai variar\n",
    "vy = v0y\n",
    "\n",
    "# tempo começa com 0\n",
    "t = 0\n",
    "# i seria o tempo\n",
    "while y <= 0:\n",
    "    # tempo vai aumentando de 0.1 s\n",
    "    t += 0.1\n",
    "    print(\"tempo = {}\".format(t))\n",
    "    # posição no eixo x\n",
    "    # como vx é constante, a posição em x vai ser sempre v * t\n",
    "    x += vx * t\n",
    "    print(\"posição no eixo x: {:.2f}\".format(x))\n",
    "\n",
    "    # variação da posicao em y -> vy =  vy + a * t\n",
    "    vy += ay * t\n",
    "    print(\"velocidade no  eixo y = {:.2f}\".format(vy))\n",
    "\n",
    "    # posição no eixo y\n",
    "    y += vy * t\n",
    "\n",
    "\n",
    "\n",
    "\n"
   ]
  }
 ],
 "metadata": {
  "kernelspec": {
   "display_name": "base",
   "language": "python",
   "name": "python3"
  },
  "language_info": {
   "codemirror_mode": {
    "name": "ipython",
    "version": 3
   },
   "file_extension": ".py",
   "mimetype": "text/x-python",
   "name": "python",
   "nbconvert_exporter": "python",
   "pygments_lexer": "ipython3",
   "version": "3.12.7"
  }
 },
 "nbformat": 4,
 "nbformat_minor": 2
}
