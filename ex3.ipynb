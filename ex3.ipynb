{
 "cells": [
  {
   "cell_type": "markdown",
   "id": "210a507d",
   "metadata": {},
   "source": [
    "![alt text](image-2.png)"
   ]
  },
  {
   "cell_type": "markdown",
   "id": "7358cca6",
   "metadata": {},
   "source": [
    "1 - Descobrir v2"
   ]
  },
  {
   "cell_type": "code",
   "execution_count": null,
   "id": "e9587348",
   "metadata": {},
   "outputs": [],
   "source": [
    "import math\n",
    "\n",
    "# --- Constantes ---\n",
    "G          = 6.67430e-11          # m^3 kg^-1 s^-2\n",
    "M_sun      = 1.9891e30            # kg\n",
    "mu         = G * M_sun            # m^3 s^-2\n",
    "SECONDS_IN_DAY  = 86400\n",
    "DAYS_IN_YEAR    = 365.25\n",
    "\n",
    "def orbital_elements(l1, v1):\n",
    "    \"\"\"Calcula l2, v2, a, b, T e e para uma órbita elíptica dada l1 e v1.\"\"\"\n",
    "    h   = l1 * v1                                   # momento angular específico\n",
    "    eps = 0.5 * v1**2 - mu / l1                     # energia específica\n",
    "    a   = -mu / (2 * eps)                           # semi‑eixo maior\n",
    "    e   = math.sqrt(1 - h**2 / (a * mu))            # excentricidade\n",
    "    l2  = a * (1 + e)                               # afélio\n",
    "    v2  = h / l2                                    # velocidade no afélio\n",
    "    b   = a * math.sqrt(1 - e**2)                   # semi‑eixo menor\n",
    "    T   = 2 * math.pi * math.sqrt(a**3 / mu)        # período (s)\n",
    "\n",
    "    return l2, v2, a, b, T, e\n",
    "\n",
    "def imprimir(l1, v1, corpo=\"Corpo\"):\n",
    "    l2, v2, a, b, T, e = orbital_elements(l1, v1)\n",
    "    print(f\"\\n--- {corpo} ---\")\n",
    "    print(f\"Afélio (ℓ₂)           : {l2:.3e} m\")\n",
    "    print(f\"Velocidade no afélio  : {v2:.3e} m/s\")\n",
    "    print(f\"Semi‑eixo maior (a)   : {a:.3e} m\")\n",
    "    print(f\"Semi‑eixo menor (b)   : {b:.3e} m\")\n",
    "    print(f\"Eccentricidade (e)    : {e:.6f}\")\n",
    "    print(f\"Período (T)           : {T/SECONDS_IN_DAY:.2f} dias \"\n",
    "          f\"≈ {T/SECONDS_IN_DAY/DAYS_IN_YEAR:.2f} anos\")\n",
    "\n",
    "\n",
    "if __name__ == \"__main__\":\n",
    "    try:\n",
    "        l1 = float(input(\"Distância ao Sol no periélio (m): \"))\n",
    "        v1 = float(input(\"Velocidade no periélio (m/s): \"))\n",
    "        imprimir(l1, v1, \"Objeto\")\n",
    "    except ValueError:\n",
    "        print(\"Insira números válidos.\")\n",
    "\n"
   ]
  },
  {
   "cell_type": "code",
   "execution_count": 3,
   "id": "d1c360e3",
   "metadata": {},
   "outputs": [
    {
     "name": "stdout",
     "output_type": "stream",
     "text": [
      "\n",
      "--- Terra ---\n",
      "Afélio (ℓ₂)           : 1.520e+11 m\n",
      "Velocidade no afélio  : 2.931e+04 m/s\n",
      "Semi‑eixo maior (a)   : 1.496e+11 m\n",
      "Semi‑eixo menor (b)   : 1.495e+11 m\n",
      "Eccentricidade (e)    : 0.016396\n",
      "Período (T)           : 365.03 dias ≈ 1.00 anos\n",
      "\n",
      "--- Cometa Halley ---\n",
      "Afélio (ℓ₂)           : 5.258e+12 m\n",
      "Velocidade no afélio  : 9.108e+02 m/s\n",
      "Semi‑eixo maior (a)   : 2.673e+12 m\n",
      "Semi‑eixo menor (b)   : 6.796e+11 m\n",
      "Eccentricidade (e)    : 0.967142\n",
      "Período (T)           : 27582.17 dias ≈ 75.52 anos\n"
     ]
    }
   ],
   "source": [
    "imprimir(1.471e11, 3.0287e4, \"Terra\")\n",
    "imprimir(8.7830e10, 5.4529e4, \"Cometa Halley\")"
   ]
  }
 ],
 "metadata": {
  "kernelspec": {
   "display_name": "Python 3",
   "language": "python",
   "name": "python3"
  },
  "language_info": {
   "codemirror_mode": {
    "name": "ipython",
    "version": 3
   },
   "file_extension": ".py",
   "mimetype": "text/x-python",
   "name": "python",
   "nbconvert_exporter": "python",
   "pygments_lexer": "ipython3",
   "version": "3.12.0"
  }
 },
 "nbformat": 4,
 "nbformat_minor": 5
}
