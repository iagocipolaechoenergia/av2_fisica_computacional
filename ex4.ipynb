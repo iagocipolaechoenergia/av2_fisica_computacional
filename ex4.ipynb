{
 "cells": [
  {
   "cell_type": "markdown",
   "id": "f8d12c1e",
   "metadata": {},
   "source": [
    "![alt text](image-4.png)"
   ]
  },
  {
   "cell_type": "code",
   "execution_count": null,
   "id": "292abc61",
   "metadata": {},
   "outputs": [],
   "source": [
    "import math\n",
    "\n",
    "# --- Constantes ---\n",
    "ELEM_CHARGE = 1.602176634e-19          # C\n",
    "HBAR        = 1.054571817e-34          # J·s\n",
    "M_ELECTRON  = 9.109383701e-31          # kg\n",
    "\n",
    "def step_probabilities(E_eV: float, V_eV: float, m: float = M_ELECTRON):\n",
    "    \"\"\"\n",
    "    Calcula probabilidades de transmissão (T) e reflexão (R) para um\n",
    "    degrau de potencial 1‑D com E > V.\n",
    "    \n",
    "    Parameters\n",
    "    ----------\n",
    "    E_eV : float\n",
    "        Energia cinética da partícula antes do degrau (eV).\n",
    "    V_eV : float\n",
    "        Altura do degrau de potencial (eV).\n",
    "    m     : float, opcional\n",
    "        Massa da partícula (kg). Padrão: massa do elétron.\n",
    "        \n",
    "    Returns\n",
    "    -------\n",
    "    T, R : tuple of floats\n",
    "        Probabilidades de transmissão e reflexão (0‑1).\n",
    "    \"\"\"\n",
    "    if E_eV <= V_eV:\n",
    "        raise ValueError(\"O código vale apenas para E > V.\")\n",
    "    \n",
    "    # --- Conversões ---\n",
    "    E  = E_eV * ELEM_CHARGE            # J\n",
    "    V  = V_eV * ELEM_CHARGE            # J\n",
    "    dE = E - V                         # J\n",
    "    \n",
    "    # --- Números‑de‑onda ---\n",
    "    k1 = math.sqrt(2 * m * E)  / HBAR  # 1/m\n",
    "    k2 = math.sqrt(2 * m * dE) / HBAR  # 1/m\n",
    "    \n",
    "    # --- Probabilidades ---\n",
    "    T = 4 * k1 * k2 / (k1 + k2) ** 2\n",
    "    R = ((k1 - k2) / (k1 + k2)) ** 2\n",
    "    return T, R\n",
    "\n",
    "def pretty_print(E, V):\n",
    "    T, R = step_probabilities(E, V)\n",
    "    print(f\"\\nEnergia da partícula: {E} eV\")\n",
    "    print(f\"Degrau de potencial : {V} eV\")\n",
    "    print(f\"Prob. transmissão T : {T:.4f}  ({T*100:.2f}%)\")\n",
    "    print(f\"Prob. reflexão     R: {R:.4f}  ({R*100:.2f}%)\")\n",
    "    print(f\"Verificação T+R    : {T+R:.6f}\")\n",
    "\n",
    "# --- Teste solicitado ---\n",
    "if __name__ == \"__main__\":\n",
    "    pretty_print(10.0, 9.0)\n"
   ]
  }
 ],
 "metadata": {
  "language_info": {
   "name": "python"
  }
 },
 "nbformat": 4,
 "nbformat_minor": 5
}
